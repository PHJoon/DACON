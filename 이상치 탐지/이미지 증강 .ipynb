{
 "cells": [
  {
   "cell_type": "markdown",
   "id": "c2aca686",
   "metadata": {},
   "source": [
    "# 이미지 증강"
   ]
  },
  {
   "cell_type": "code",
   "execution_count": 1,
   "id": "7514c626",
   "metadata": {},
   "outputs": [],
   "source": [
    "import pandas as pd\n",
    "import tensorflow as tf\n",
    "import numpy as np\n",
    "\n",
    "import pandas as pd\n",
    "import cv2\n",
    "import os\n",
    "import math\n",
    "import scipy as sp\n",
    "import PIL\n",
    "\n",
    "from glob import glob\n",
    "from tqdm import tqdm\n",
    "\n",
    "from tensorflow.keras import models, layers, Model\n",
    "from tensorflow.keras.models import Sequential, load_model\n",
    "from tensorflow.keras.layers import Conv2D, MaxPooling2D\n",
    "from tensorflow.keras.layers import Dense, Dropout, Flatten, GlobalAveragePooling2D\n",
    "from tensorflow.keras.layers import Flatten, Dense, Dropout, ZeroPadding2D\n",
    "\n",
    "from tensorflow.keras.preprocessing.image import ImageDataGenerator\n",
    "from tensorflow.keras.callbacks import ModelCheckpoint, TensorBoard, ReduceLROnPlateau\n",
    "from tensorflow.keras import optimizers\n",
    "from tensorflow.keras.optimizers import SGD\n",
    "from tensorflow.keras.models import Model\n",
    "from tensorflow.keras.preprocessing import image\n",
    "from tensorflow.keras.applications import EfficientNetB4, EfficientNetB6, ResNet50V2\n",
    "\n",
    "from keras.preprocessing.image import array_to_img, img_to_array, load_img"
   ]
  },
  {
   "cell_type": "code",
   "execution_count": 7,
   "id": "82774b29",
   "metadata": {},
   "outputs": [],
   "source": [
    "# 데이터 증강\n",
    "from keras.preprocessing.image import array_to_img, img_to_array, load_img\n",
    "\n",
    "# batch_size: 한번에 forward & Backword 하는 샘플의 수\n",
    "batch_size = 32\n",
    "\n",
    "# Training 수\n",
    "epochs = 50\n",
    "\n",
    "# Weight 조절 parameter\n",
    "LearningRate = 1e-3 # 0.001\n",
    "Decay = 1e-6\n",
    "\n",
    "img_width = 1024\n",
    "img_height = 1024\n",
    "\n",
    "# Online-augmentation 적용 Generator\n",
    "# 1. 이미지를 전부다 불러서 램 (메모리)에 올릴 수 없기 때문\n",
    "# 2. 이미지는 Augmentation을 해주는게 좋아서\n",
    "\n",
    "DATAGEN_TRAIN = ImageDataGenerator(\n",
    "    rescale=1./255,\n",
    "    rotation_range=70,\n",
    "    width_shift_range=0.3,\n",
    "    height_shift_range=0.3,\n",
    "    shear_range=0.3,\n",
    "    horizontal_flip=True,\n",
    "    vertical_flip=True,\n",
    "    data_format=\"channels_last\",\n",
    "    validation_split=0.10) # Train / Validation\n",
    "\n",
    "# Online-augmentation 비적용 Generator (Test용)\n",
    "DATAGEN_TEST = ImageDataGenerator(\n",
    "    rescale=1./255,\n",
    "    featurewise_center=True,\n",
    "    featurewise_std_normalization=True,\n",
    "    data_format=\"channels_last\")"
   ]
  },
  {
   "cell_type": "markdown",
   "id": "e995092b",
   "metadata": {},
   "source": [
    "## train_status폴더 따로 만들고 train_status -> class별 폴더 -> class별 status 폴더 - 분류된 이미지\n",
    "## 이런 식으로 생성해놓고 코드 돌렸습니다\n",
    "## ex) train_status -> bottle -> (bottle-good, bottle-broken-small ...)"
   ]
  },
  {
   "cell_type": "code",
   "execution_count": 4,
   "id": "728affe9",
   "metadata": {
    "scrolled": true
   },
   "outputs": [
    {
     "ename": "FileNotFoundError",
     "evalue": "[WinError 3] 지정된 경로를 찾을 수 없습니다: './train/bottle/'",
     "output_type": "error",
     "traceback": [
      "\u001b[1;31m---------------------------------------------------------------------------\u001b[0m",
      "\u001b[1;31mFileNotFoundError\u001b[0m                         Traceback (most recent call last)",
      "\u001b[1;32m~\\AppData\\Local\\Temp/ipykernel_15656/3173510095.py\u001b[0m in \u001b[0;36m<module>\u001b[1;34m\u001b[0m\n\u001b[0;32m     22\u001b[0m     \u001b[0mpath\u001b[0m \u001b[1;33m=\u001b[0m \u001b[0mlist_train_directory\u001b[0m\u001b[1;33m[\u001b[0m\u001b[0mz\u001b[0m\u001b[1;33m]\u001b[0m\u001b[1;33m\u001b[0m\u001b[1;33m\u001b[0m\u001b[0m\n\u001b[0;32m     23\u001b[0m     \u001b[1;31m# 해당 class의 status별 리스트 a\u001b[0m\u001b[1;33m\u001b[0m\u001b[1;33m\u001b[0m\u001b[0m\n\u001b[1;32m---> 24\u001b[1;33m     \u001b[0ma\u001b[0m \u001b[1;33m=\u001b[0m \u001b[0mos\u001b[0m\u001b[1;33m.\u001b[0m\u001b[0mlistdir\u001b[0m\u001b[1;33m(\u001b[0m\u001b[0mpath\u001b[0m\u001b[1;33m)\u001b[0m\u001b[1;33m\u001b[0m\u001b[1;33m\u001b[0m\u001b[0m\n\u001b[0m\u001b[0;32m     25\u001b[0m     \u001b[1;31m# 해당 class 이름만 추출\u001b[0m\u001b[1;33m\u001b[0m\u001b[1;33m\u001b[0m\u001b[0m\n\u001b[0;32m     26\u001b[0m     \u001b[0me\u001b[0m \u001b[1;33m=\u001b[0m \u001b[0mlist_train_directory\u001b[0m\u001b[1;33m[\u001b[0m\u001b[0mz\u001b[0m\u001b[1;33m]\u001b[0m\u001b[1;33m[\u001b[0m\u001b[1;36m15\u001b[0m\u001b[1;33m:\u001b[0m\u001b[1;33m-\u001b[0m\u001b[1;36m1\u001b[0m\u001b[1;33m]\u001b[0m\u001b[1;33m\u001b[0m\u001b[1;33m\u001b[0m\u001b[0m\n",
      "\u001b[1;31mFileNotFoundError\u001b[0m: [WinError 3] 지정된 경로를 찾을 수 없습니다: './train/bottle/'"
     ]
    }
   ],
   "source": [
    "# class 이름만 추출\n",
    "train_df = pd.read_csv(\"train_df.csv\")\n",
    "list_class = train_df[\"class\"].unique().tolist()\n",
    "list_class.sort()\n",
    "list_class\n",
    "\n",
    "CurrentDirectory = \"./\"\n",
    "test_directory  = CurrentDirectory + 'test/'\n",
    "\n",
    "\n",
    "list_train_directory = []\n",
    "list_model_directory = []\n",
    "\n",
    "# class 이름별 경로 리스트 생성(list_train_directory)\n",
    "for i in list_class:\n",
    "    list_train_directory.append(CurrentDirectory + 'train_status/' + i + '/')\n",
    "    list_model_directory.append(CurrentDirectory + 'model_status/' + i + '/')\n",
    "\n",
    "# class 이름별 경로 bottle부터 하나씩 뽑아서 순서대로 증강\n",
    "for z in range(len(list_train_directory)):\n",
    "    # 리스트에서 뽑은 경로\n",
    "    path = list_train_directory[z]\n",
    "    # 해당 class의 status별 리스트 a\n",
    "    a = os.listdir(path)\n",
    "    # 해당 class 이름만 추출\n",
    "    e = list_train_directory[z][15:-1]\n",
    "    b = []\n",
    "    # 해당 class 이름과 '-good' 결합하여 증강시킬 폴더에서 제외\n",
    "    eg = e + '-good'\n",
    "    # b리스트 속 리스트로 각 상태별 파일 이름 추가\n",
    "    for i in a:\n",
    "        if i != eg:\n",
    "            b.append(os.listdir(path + i))\n",
    "    # 해당 class-good은 a리스트에서 삭제\n",
    "    a.remove(eg)\n",
    "    # 해당 class의 status 갯수만큼 b리스트 속 리스트 존재\n",
    "    for k in range(len(b)):\n",
    "        # status 속 파일리스트 d로 지정\n",
    "        d = b[k]\n",
    "        for i in a:\n",
    "            c = os.listdir(path + i)\n",
    "            directory = path + i + '/'\n",
    "            # 이중 for문에서 폴더 접근 방식 에러 발생할 수 밖에 없어서 try문으로 에러 무시\n",
    "            try:\n",
    "                # 원본 파일리스트 d에서 하나씩 꺼내서 x에 array형태로 넣은 다음 reshape\n",
    "                for j in d:\n",
    "                    img = load_img(directory + j)\n",
    "                    x = img_to_array(img)\n",
    "                    x = x.reshape((1,) + x.shape)\n",
    "                    p = 0\n",
    "                    # array 형태로 변형된 원본 이미지 해당 경로에 앞에 tri 이름붙은 png 파일 형태로 \n",
    "                    # ImageGenerator로 증강시키는 동작 i만큼 반복\n",
    "                    for batch in DATAGEN_TRAIN.flow(x, batch_size=1, save_to_dir= directory, save_prefix='tri', save_format='png'):\n",
    "                        p += 1\n",
    "                        if p > 7:\n",
    "                            break\n",
    "            except:\n",
    "                continue"
   ]
  },
  {
   "cell_type": "code",
   "execution_count": 8,
   "id": "cee534e1",
   "metadata": {},
   "outputs": [],
   "source": [
    "\n",
    "img = load_img(\"./train/screw-scratch_head/10197.png\")\n",
    "x = img_to_array(img)\n",
    "x = x.reshape((1,) + x.shape)\n",
    "p = 0\n",
    "                    # array 형태로 변형된 원본 이미지 해당 경로에 앞에 tri 이름붙은 png 파일 형태로 \n",
    "                    # ImageGenerator로 증강시키는 동작 i만큼 반복\n",
    "for batch in DATAGEN_TRAIN.flow(x, batch_size=1, save_to_dir=\"./train/screw-scratch_head\" , save_prefix='tri', save_format='png'):\n",
    "    p += 1\n",
    "    if p >= 3:\n",
    "        break"
   ]
  },
  {
   "cell_type": "code",
   "execution_count": null,
   "id": "bebbce74",
   "metadata": {},
   "outputs": [],
   "source": []
  }
 ],
 "metadata": {
  "kernelspec": {
   "display_name": "Python 3 (ipykernel)",
   "language": "python",
   "name": "python3"
  },
  "language_info": {
   "codemirror_mode": {
    "name": "ipython",
    "version": 3
   },
   "file_extension": ".py",
   "mimetype": "text/x-python",
   "name": "python",
   "nbconvert_exporter": "python",
   "pygments_lexer": "ipython3",
   "version": "3.9.7"
  }
 },
 "nbformat": 4,
 "nbformat_minor": 5
}
